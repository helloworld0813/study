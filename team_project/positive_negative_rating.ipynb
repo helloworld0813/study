{
 "cells": [
  {
   "cell_type": "code",
   "execution_count": 2,
   "metadata": {},
   "outputs": [],
   "source": [
    "import pandas as pd\n",
    "import matplotlib.pyplot as plt\n",
    "from pandas import Series, DataFrame\n",
    "import numpy as np\n",
    "import seaborn as sns\n",
    "from matplotlib import font_manager, rc\n",
    "font_name = font_manager.FontProperties(fname=\"c:/Windows/Fonts/malgun.ttf\").get_name()\n",
    "rc('font', family=font_name)"
   ]
  },
  {
   "cell_type": "code",
   "execution_count": 41,
   "metadata": {},
   "outputs": [
    {
     "data": {
      "text/html": [
       "<div>\n",
       "<style scoped>\n",
       "    .dataframe tbody tr th:only-of-type {\n",
       "        vertical-align: middle;\n",
       "    }\n",
       "\n",
       "    .dataframe tbody tr th {\n",
       "        vertical-align: top;\n",
       "    }\n",
       "\n",
       "    .dataframe thead th {\n",
       "        text-align: right;\n",
       "    }\n",
       "</style>\n",
       "<table border=\"1\" class=\"dataframe\">\n",
       "  <thead>\n",
       "    <tr style=\"text-align: right;\">\n",
       "      <th></th>\n",
       "      <th>Unnamed: 0</th>\n",
       "      <th>댓글</th>\n",
       "      <th>평점</th>\n",
       "    </tr>\n",
       "  </thead>\n",
       "  <tbody>\n",
       "    <tr>\n",
       "      <th>0</th>\n",
       "      <td>0</td>\n",
       "      <td>교활한 상술과 이에 편승한 교보에 실망했다.이책은 책이 아니고 그냥 노트일 뿐이다....</td>\n",
       "      <td>0</td>\n",
       "    </tr>\n",
       "    <tr>\n",
       "      <th>1</th>\n",
       "      <td>1</td>\n",
       "      <td>좋은 분께 선물드린 책입니다,,</td>\n",
       "      <td>1</td>\n",
       "    </tr>\n",
       "    <tr>\n",
       "      <th>2</th>\n",
       "      <td>2</td>\n",
       "      <td>매년 같은날 다른 기분과 느낌 매일매일이 새로운 기분일것같아요꼭 사시길 추천행요</td>\n",
       "      <td>1</td>\n",
       "    </tr>\n",
       "  </tbody>\n",
       "</table>\n",
       "</div>"
      ],
      "text/plain": [
       "   Unnamed: 0                                                 댓글  평점\n",
       "0           0  교활한 상술과 이에 편승한 교보에 실망했다.이책은 책이 아니고 그냥 노트일 뿐이다....   0\n",
       "1           1                                  좋은 분께 선물드린 책입니다,,   1\n",
       "2           2       매년 같은날 다른 기분과 느낌 매일매일이 새로운 기분일것같아요꼭 사시길 추천행요   1"
      ]
     },
     "execution_count": 41,
     "metadata": {},
     "output_type": "execute_result"
    }
   ],
   "source": [
    "test_df = pd.read_csv('data/5년후 나에게.txt', sep='\\t')\n",
    "test_df.head(3)"
   ]
  },
  {
   "cell_type": "code",
   "execution_count": 42,
   "metadata": {},
   "outputs": [
    {
     "data": {
      "text/html": [
       "<div>\n",
       "<style scoped>\n",
       "    .dataframe tbody tr th:only-of-type {\n",
       "        vertical-align: middle;\n",
       "    }\n",
       "\n",
       "    .dataframe tbody tr th {\n",
       "        vertical-align: top;\n",
       "    }\n",
       "\n",
       "    .dataframe thead th {\n",
       "        text-align: right;\n",
       "    }\n",
       "</style>\n",
       "<table border=\"1\" class=\"dataframe\">\n",
       "  <thead>\n",
       "    <tr style=\"text-align: right;\">\n",
       "      <th></th>\n",
       "      <th>Unnamed: 0</th>\n",
       "      <th>댓글</th>\n",
       "      <th>평점</th>\n",
       "    </tr>\n",
       "  </thead>\n",
       "  <tbody>\n",
       "    <tr>\n",
       "      <th>0</th>\n",
       "      <td>0</td>\n",
       "      <td>교활한 상술과 이에 편승한 교보에 실망했다.이책은 책이 아니고 그냥 노트일 뿐이다....</td>\n",
       "      <td>0</td>\n",
       "    </tr>\n",
       "    <tr>\n",
       "      <th>1</th>\n",
       "      <td>1</td>\n",
       "      <td>좋은 분께 선물드린 책입니다,,</td>\n",
       "      <td>1</td>\n",
       "    </tr>\n",
       "    <tr>\n",
       "      <th>2</th>\n",
       "      <td>2</td>\n",
       "      <td>매년 같은날 다른 기분과 느낌 매일매일이 새로운 기분일것같아요꼭 사시길 추천행요</td>\n",
       "      <td>1</td>\n",
       "    </tr>\n",
       "    <tr>\n",
       "      <th>3</th>\n",
       "      <td>3</td>\n",
       "      <td>배송 받자마자 오늘 처음 시작했어요. 5년간 내 삶의 기록들이 기대됩니다.</td>\n",
       "      <td>1</td>\n",
       "    </tr>\n",
       "    <tr>\n",
       "      <th>4</th>\n",
       "      <td>4</td>\n",
       "      <td>얼마전에 서점에서 발견하고 계속 사고 싶었던 책이라 너무너무 기대되요!!</td>\n",
       "      <td>1</td>\n",
       "    </tr>\n",
       "    <tr>\n",
       "      <th>...</th>\n",
       "      <td>...</td>\n",
       "      <td>...</td>\n",
       "      <td>...</td>\n",
       "    </tr>\n",
       "    <tr>\n",
       "      <th>550</th>\n",
       "      <td>550</td>\n",
       "      <td>5년후 읽어봐야지</td>\n",
       "      <td>1</td>\n",
       "    </tr>\n",
       "    <tr>\n",
       "      <th>551</th>\n",
       "      <td>551</td>\n",
       "      <td>5년후에 나에게 천천히 보내는 작은 선물</td>\n",
       "      <td>1</td>\n",
       "    </tr>\n",
       "    <tr>\n",
       "      <th>552</th>\n",
       "      <td>552</td>\n",
       "      <td>5년 후에 읽으면 나에겐 값진 선물이 되겠지</td>\n",
       "      <td>1</td>\n",
       "    </tr>\n",
       "    <tr>\n",
       "      <th>553</th>\n",
       "      <td>553</td>\n",
       "      <td>5년후 다시 읽어볼겁니다! ^^</td>\n",
       "      <td>1</td>\n",
       "    </tr>\n",
       "    <tr>\n",
       "      <th>554</th>\n",
       "      <td>554</td>\n",
       "      <td>색다른 질문으로 나의 하루 마감하기! 여느 해와 다름없이, 올 해를 맞이 하면서 저...</td>\n",
       "      <td>1</td>\n",
       "    </tr>\n",
       "  </tbody>\n",
       "</table>\n",
       "<p>555 rows × 3 columns</p>\n",
       "</div>"
      ],
      "text/plain": [
       "     Unnamed: 0                                                 댓글  평점\n",
       "0             0  교활한 상술과 이에 편승한 교보에 실망했다.이책은 책이 아니고 그냥 노트일 뿐이다....   0\n",
       "1             1                                  좋은 분께 선물드린 책입니다,,   1\n",
       "2             2       매년 같은날 다른 기분과 느낌 매일매일이 새로운 기분일것같아요꼭 사시길 추천행요   1\n",
       "3             3          배송 받자마자 오늘 처음 시작했어요. 5년간 내 삶의 기록들이 기대됩니다.   1\n",
       "4             4           얼마전에 서점에서 발견하고 계속 사고 싶었던 책이라 너무너무 기대되요!!   1\n",
       "..          ...                                                ...  ..\n",
       "550         550                                          5년후 읽어봐야지   1\n",
       "551         551                             5년후에 나에게 천천히 보내는 작은 선물   1\n",
       "552         552                           5년 후에 읽으면 나에겐 값진 선물이 되겠지   1\n",
       "553         553                                  5년후 다시 읽어볼겁니다! ^^   1\n",
       "554         554  색다른 질문으로 나의 하루 마감하기! 여느 해와 다름없이, 올 해를 맞이 하면서 저...   1\n",
       "\n",
       "[555 rows x 3 columns]"
      ]
     },
     "execution_count": 42,
     "metadata": {},
     "output_type": "execute_result"
    }
   ],
   "source": [
    "# 평점 칼럼 문자 -> 숫자로 변경\n",
    "test_df['평점'] = pd.to_numeric(test_df['평점'])\n",
    "test_df"
   ]
  },
  {
   "cell_type": "code",
   "execution_count": 43,
   "metadata": {},
   "outputs": [
    {
     "data": {
      "text/plain": [
       "1    528\n",
       "0     27\n",
       "Name: 평점, dtype: int64"
      ]
     },
     "execution_count": 43,
     "metadata": {},
     "output_type": "execute_result"
    }
   ],
   "source": [
    "test_df['평점'].value_counts()"
   ]
  },
  {
   "cell_type": "code",
   "execution_count": null,
   "metadata": {},
   "outputs": [],
   "source": [
    "# 1: 긍정 / 2: 부정\n",
    "# 부정갯수 / 전체 행 갯수 -1 = 부정비율"
   ]
  },
  {
   "cell_type": "code",
   "execution_count": 44,
   "metadata": {},
   "outputs": [
    {
     "name": "stdout",
     "output_type": "stream",
     "text": [
      "554 Unnamed: 0    153735\n",
      "평점               528\n",
      "dtype: int64 Unnamed: 0   -153181\n",
      "평점                26\n",
      "dtype: int64\n"
     ]
    }
   ],
   "source": [
    "# 리뷰 전체\n",
    "review_all = len(test_df['평점']) - 1\n",
    "# 긍정갯수\n",
    "review_pos = test_df.sum(axis=0) # 열의 합: 528(긍정)\n",
    "# 부정갯수\n",
    "review_nag = review_all - review_pos\n",
    "\n",
    "print(review_all,review_pos,review_nag)"
   ]
  },
  {
   "cell_type": "code",
   "execution_count": 82,
   "metadata": {},
   "outputs": [
    {
     "name": "stdout",
     "output_type": "stream",
     "text": [
      "[Unnamed: 0    27750.000000\n",
      "평점               95.306859\n",
      "dtype: float64, Unnamed: 0   -27650.000000\n",
      "평점                4.693141\n",
      "dtype: float64]\n"
     ]
    }
   ],
   "source": [
    "# 긍정\n",
    "pos_ratio = review_pos / review_all *100\n",
    "nag_ratio = review_nag / review_all *100\n",
    "ratio = [pos_ratio,nag_ratio]\n",
    "print(ratio)"
   ]
  },
  {
   "cell_type": "code",
   "execution_count": 3,
   "metadata": {},
   "outputs": [],
   "source": [
    "ex = pd.read_csv('data/example.csv', sep=',')"
   ]
  },
  {
   "cell_type": "code",
   "execution_count": 4,
   "metadata": {
    "scrolled": true
   },
   "outputs": [
    {
     "data": {
      "text/html": [
       "<div>\n",
       "<style scoped>\n",
       "    .dataframe tbody tr th:only-of-type {\n",
       "        vertical-align: middle;\n",
       "    }\n",
       "\n",
       "    .dataframe tbody tr th {\n",
       "        vertical-align: top;\n",
       "    }\n",
       "\n",
       "    .dataframe thead th {\n",
       "        text-align: right;\n",
       "    }\n",
       "</style>\n",
       "<table border=\"1\" class=\"dataframe\">\n",
       "  <thead>\n",
       "    <tr style=\"text-align: right;\">\n",
       "      <th></th>\n",
       "      <th>Unnamed: 0</th>\n",
       "      <th>댓글</th>\n",
       "      <th>평점</th>\n",
       "      <th>bookname</th>\n",
       "      <th>Unnamed: 4</th>\n",
       "      <th>구분</th>\n",
       "    </tr>\n",
       "  </thead>\n",
       "  <tbody>\n",
       "    <tr>\n",
       "      <th>0</th>\n",
       "      <td>0</td>\n",
       "      <td>교활한 상술과 이에 편승한 교보에 실망했다.이책은 책이 아니고 그냥 노트일 뿐이다....</td>\n",
       "      <td>-1</td>\n",
       "      <td>5년후 나에게</td>\n",
       "      <td>NaN</td>\n",
       "      <td>1</td>\n",
       "    </tr>\n",
       "    <tr>\n",
       "      <th>1</th>\n",
       "      <td>1</td>\n",
       "      <td>좋은 분께 선물드린 책입니다,,</td>\n",
       "      <td>1</td>\n",
       "      <td>5년후 나에게</td>\n",
       "      <td>NaN</td>\n",
       "      <td>1</td>\n",
       "    </tr>\n",
       "    <tr>\n",
       "      <th>2</th>\n",
       "      <td>2</td>\n",
       "      <td>매년 같은날 다른 기분과 느낌 매일매일이 새로운 기분일것같아요꼭 사시길 추천행요</td>\n",
       "      <td>1</td>\n",
       "      <td>5년후 나에게</td>\n",
       "      <td>NaN</td>\n",
       "      <td>1</td>\n",
       "    </tr>\n",
       "    <tr>\n",
       "      <th>3</th>\n",
       "      <td>3</td>\n",
       "      <td>배송 받자마자 오늘 처음 시작했어요. 5년간 내 삶의 기록들이 기대됩니다.</td>\n",
       "      <td>1</td>\n",
       "      <td>5년후 나에게</td>\n",
       "      <td>NaN</td>\n",
       "      <td>1</td>\n",
       "    </tr>\n",
       "    <tr>\n",
       "      <th>4</th>\n",
       "      <td>4</td>\n",
       "      <td>얼마전에 서점에서 발견하고 계속 사고 싶었던 책이라 너무너무 기대되요!!</td>\n",
       "      <td>1</td>\n",
       "      <td>5년후 나에게</td>\n",
       "      <td>NaN</td>\n",
       "      <td>1</td>\n",
       "    </tr>\n",
       "  </tbody>\n",
       "</table>\n",
       "</div>"
      ],
      "text/plain": [
       "   Unnamed: 0                                                 댓글  평점 bookname  \\\n",
       "0           0  교활한 상술과 이에 편승한 교보에 실망했다.이책은 책이 아니고 그냥 노트일 뿐이다....  -1  5년후 나에게   \n",
       "1           1                                  좋은 분께 선물드린 책입니다,,   1  5년후 나에게   \n",
       "2           2       매년 같은날 다른 기분과 느낌 매일매일이 새로운 기분일것같아요꼭 사시길 추천행요   1  5년후 나에게   \n",
       "3           3          배송 받자마자 오늘 처음 시작했어요. 5년간 내 삶의 기록들이 기대됩니다.   1  5년후 나에게   \n",
       "4           4           얼마전에 서점에서 발견하고 계속 사고 싶었던 책이라 너무너무 기대되요!!   1  5년후 나에게   \n",
       "\n",
       "   Unnamed: 4  구분  \n",
       "0         NaN   1  \n",
       "1         NaN   1  \n",
       "2         NaN   1  \n",
       "3         NaN   1  \n",
       "4         NaN   1  "
      ]
     },
     "execution_count": 4,
     "metadata": {},
     "output_type": "execute_result"
    }
   ],
   "source": [
    "ex.head()"
   ]
  },
  {
   "cell_type": "code",
   "execution_count": 5,
   "metadata": {},
   "outputs": [
    {
     "data": {
      "text/plain": [
       "bookname                 평점\n",
       "50부터는 인생관을 바꿔야 산다         1     42\n",
       "                         -1      8\n",
       "5년후 나에게                   1    528\n",
       "                         -1     27\n",
       "감사하면 달라지는 것들              1     40\n",
       "                         -1      1\n",
       "나는 무조건 합격하는 공부만 한다        1     81\n",
       "                         -1      7\n",
       "린치핀                       1      8\n",
       "말센스                       1    211\n",
       "                         -1      9\n",
       "미러                        1      6\n",
       "베스트 셀프                    1    115\n",
       "                         -1      6\n",
       "세계의 리더들은 왜 철학을 공부하는가      1     15\n",
       "                         -1      2\n",
       "시작의 기술                    1     68\n",
       "                         -1      2\n",
       "아주 작은 습관의 힘               1    531\n",
       "                         -1      7\n",
       "에이트                       1    237\n",
       "                         -1     19\n",
       "인생을 어떻게 살면 좋겠냐고 묻는 딸에게    1     53\n",
       "                         -1      3\n",
       "타이탄의 도구들                  1    269\n",
       "                         -1      5\n",
       "탁월한 인생을 만드는 법             1     26\n",
       "                         -1      1\n",
       "하버드 부자 수업                 1    137\n",
       "하버드 상위 1퍼센트의 비밀           1     84\n",
       "                         -1      7\n",
       "한 줄 정리의 힘                 1      9\n",
       "                         -1      1\n",
       "해빗                        1      8\n",
       "호감 가는 대화에는 8가지 절대법칙이 있다   1     51\n",
       "Name: 평점, dtype: int64"
      ]
     },
     "execution_count": 5,
     "metadata": {},
     "output_type": "execute_result"
    }
   ],
   "source": [
    "# 도서별 긍정 갯수\n",
    "pos_point_to_book = ex.groupby('bookname')['평점'].value_counts()\n",
    "pos_point_to_book"
   ]
  },
  {
   "cell_type": "code",
   "execution_count": 7,
   "metadata": {},
   "outputs": [
    {
     "data": {
      "text/plain": [
       "<matplotlib.axes._subplots.AxesSubplot at 0x21d940619c8>"
      ]
     },
     "execution_count": 7,
     "metadata": {},
     "output_type": "execute_result"
    },
    {
     "data": {
      "image/png": "[encoded data removed]",
      "text/plain": [
       "<Figure size 720x648 with 1 Axes>"
      ]
     },
     "metadata": {},
     "output_type": "display_data"
    }
   ],
   "source": [
    "plt.style.use(['dark_background'])\n",
    "pos_point_to_book.plot(kind='barh', figsize=(10,9), fontsize=13)"
   ]
  },
  {
   "cell_type": "code",
   "execution_count": 18,
   "metadata": {},
   "outputs": [
    {
     "data": {
      "text/plain": [
       "bookname                 평점\n",
       "50부터는 인생관을 바꿔야 산다        -1      8\n",
       "                          1     42\n",
       "5년후 나에게                  -1     27\n",
       "                          1    528\n",
       "감사하면 달라지는 것들             -1      1\n",
       "                          1     40\n",
       "나는 무조건 합격하는 공부만 한다       -1      7\n",
       "                          1     81\n",
       "린치핀                       1      8\n",
       "말센스                      -1      9\n",
       "                          1    211\n",
       "미러                        1      6\n",
       "베스트 셀프                   -1      6\n",
       "                          1    115\n",
       "세계의 리더들은 왜 철학을 공부하는가     -1      2\n",
       "                          1     15\n",
       "시작의 기술                   -1      2\n",
       "                          1     68\n",
       "아주 작은 습관의 힘              -1      7\n",
       "                          1    531\n",
       "에이트                      -1     19\n",
       "                          1    237\n",
       "인생을 어떻게 살면 좋겠냐고 묻는 딸에게   -1      3\n",
       "                          1     53\n",
       "타이탄의 도구들                 -1      5\n",
       "                          1    269\n",
       "탁월한 인생을 만드는 법            -1      1\n",
       "                          1     26\n",
       "하버드 부자 수업                 1    137\n",
       "하버드 상위 1퍼센트의 비밀          -1      7\n",
       "                          1     84\n",
       "한 줄 정리의 힘                -1      1\n",
       "                          1      9\n",
       "해빗                        1      8\n",
       "호감 가는 대화에는 8가지 절대법칙이 있다   1     51\n",
       "Name: 평점, dtype: int64"
      ]
     },
     "execution_count": 18,
     "metadata": {},
     "output_type": "execute_result"
    }
   ],
   "source": [
    "# 도서별 긍/부정 비율구하기 - 긍정:1 / 부정:-1\n",
    "point_to_book_s = ex.groupby(['bookname','평점'])['평점'].sum()\n",
    "abs(point_to_book_s)\n"
   ]
  },
  {
   "cell_type": "code",
   "execution_count": 19,
   "metadata": {},
   "outputs": [
    {
     "data": {
      "text/plain": [
       "bookname\n",
       "50부터는 인생관을 바꿔야 산다           50\n",
       "5년후 나에게                    555\n",
       "감사하면 달라지는 것들                41\n",
       "나는 무조건 합격하는 공부만 한다          88\n",
       "린치핀                          8\n",
       "말센스                        220\n",
       "미러                           6\n",
       "베스트 셀프                     121\n",
       "세계의 리더들은 왜 철학을 공부하는가        17\n",
       "시작의 기술                      70\n",
       "아주 작은 습관의 힘                538\n",
       "에이트                        256\n",
       "인생을 어떻게 살면 좋겠냐고 묻는 딸에게      56\n",
       "타이탄의 도구들                   274\n",
       "탁월한 인생을 만드는 법               27\n",
       "하버드 부자 수업                  137\n",
       "하버드 상위 1퍼센트의 비밀             91\n",
       "한 줄 정리의 힘                   10\n",
       "해빗                           8\n",
       "호감 가는 대화에는 8가지 절대법칙이 있다     51\n",
       "Name: 구분, dtype: int64"
      ]
     },
     "execution_count": 19,
     "metadata": {},
     "output_type": "execute_result"
    }
   ],
   "source": [
    "# 도서별 전체 갯수\n",
    "point_to_book_all = ex.groupby('bookname')['구분'].sum()\n",
    "point_to_book_all"
   ]
  },
  {
   "cell_type": "code",
   "execution_count": 34,
   "metadata": {},
   "outputs": [
    {
     "data": {
      "text/plain": [
       "bookname                 평점\n",
       "50부터는 인생관을 바꿔야 산다        -1    0.160000\n",
       "                          1    0.840000\n",
       "5년후 나에게                  -1    0.048649\n",
       "                          1    0.951351\n",
       "감사하면 달라지는 것들             -1    0.024390\n",
       "                          1    0.975610\n",
       "나는 무조건 합격하는 공부만 한다       -1    0.079545\n",
       "                          1    0.920455\n",
       "린치핀                       1    1.000000\n",
       "말센스                      -1    0.040909\n",
       "                          1    0.959091\n",
       "미러                        1    1.000000\n",
       "베스트 셀프                   -1    0.049587\n",
       "                          1    0.950413\n",
       "세계의 리더들은 왜 철학을 공부하는가     -1    0.117647\n",
       "                          1    0.882353\n",
       "시작의 기술                   -1    0.028571\n",
       "                          1    0.971429\n",
       "아주 작은 습관의 힘              -1    0.013011\n",
       "                          1    0.986989\n",
       "에이트                      -1    0.074219\n",
       "                          1    0.925781\n",
       "인생을 어떻게 살면 좋겠냐고 묻는 딸에게   -1    0.053571\n",
       "                          1    0.946429\n",
       "타이탄의 도구들                 -1    0.018248\n",
       "                          1    0.981752\n",
       "탁월한 인생을 만드는 법            -1    0.037037\n",
       "                          1    0.962963\n",
       "하버드 부자 수업                 1    1.000000\n",
       "하버드 상위 1퍼센트의 비밀          -1    0.076923\n",
       "                          1    0.923077\n",
       "한 줄 정리의 힘                -1    0.100000\n",
       "                          1    0.900000\n",
       "해빗                        1    1.000000\n",
       "호감 가는 대화에는 8가지 절대법칙이 있다   1    1.000000\n",
       "dtype: float64"
      ]
     },
     "execution_count": 34,
     "metadata": {},
     "output_type": "execute_result"
    }
   ],
   "source": [
    "point_to_book_ratio = abs(point_to_book_s) /point_to_book_all\n",
    "point_to_book_ratio"
   ]
  },
  {
   "cell_type": "code",
   "execution_count": 37,
   "metadata": {},
   "outputs": [
    {
     "data": {
      "text/plain": [
       "<matplotlib.axes._subplots.AxesSubplot at 0x2207e150208>"
      ]
     },
     "execution_count": 37,
     "metadata": {},
     "output_type": "execute_result"
    },
    {
     "data": {
      "image/png": "[encoded data removed]",
      "text/plain": [
       "<Figure size 1000x800 with 1 Axes>"
      ]
     },
     "metadata": {},
     "output_type": "display_data"
    }
   ],
   "source": [
    "point_to_book_ratio.unstack().plot(kind='barh', figsize=(10,8), stacked=True, fontsize=13)"
   ]
  },
  {
   "cell_type": "markdown",
   "metadata": {},
   "source": [
    "#### 긍정부정 포인트 좌표 찍기"
   ]
  },
  {
   "cell_type": "code",
   "execution_count": null,
   "metadata": {},
   "outputs": [],
   "source": [
    "# 도서별 1값, -1값 따로 배열로, np.array"
   ]
  },
  {
   "cell_type": "code",
   "execution_count": 4,
   "metadata": {},
   "outputs": [
    {
     "data": {
      "text/html": [
       "<div>\n",
       "<style scoped>\n",
       "    .dataframe tbody tr th:only-of-type {\n",
       "        vertical-align: middle;\n",
       "    }\n",
       "\n",
       "    .dataframe tbody tr th {\n",
       "        vertical-align: top;\n",
       "    }\n",
       "\n",
       "    .dataframe thead th {\n",
       "        text-align: right;\n",
       "    }\n",
       "</style>\n",
       "<table border=\"1\" class=\"dataframe\">\n",
       "  <thead>\n",
       "    <tr style=\"text-align: right;\">\n",
       "      <th></th>\n",
       "      <th>Unnamed: 0</th>\n",
       "      <th>댓글</th>\n",
       "      <th>평점</th>\n",
       "      <th>bookname</th>\n",
       "      <th>Unnamed: 4</th>\n",
       "      <th>구분</th>\n",
       "    </tr>\n",
       "  </thead>\n",
       "  <tbody>\n",
       "    <tr>\n",
       "      <th>0</th>\n",
       "      <td>0</td>\n",
       "      <td>교활한 상술과 이에 편승한 교보에 실망했다.이책은 책이 아니고 그냥 노트일 뿐이다....</td>\n",
       "      <td>-1</td>\n",
       "      <td>5년후 나에게</td>\n",
       "      <td>NaN</td>\n",
       "      <td>1</td>\n",
       "    </tr>\n",
       "    <tr>\n",
       "      <th>1</th>\n",
       "      <td>1</td>\n",
       "      <td>좋은 분께 선물드린 책입니다,,</td>\n",
       "      <td>1</td>\n",
       "      <td>5년후 나에게</td>\n",
       "      <td>NaN</td>\n",
       "      <td>1</td>\n",
       "    </tr>\n",
       "    <tr>\n",
       "      <th>2</th>\n",
       "      <td>2</td>\n",
       "      <td>매년 같은날 다른 기분과 느낌 매일매일이 새로운 기분일것같아요꼭 사시길 추천행요</td>\n",
       "      <td>1</td>\n",
       "      <td>5년후 나에게</td>\n",
       "      <td>NaN</td>\n",
       "      <td>1</td>\n",
       "    </tr>\n",
       "    <tr>\n",
       "      <th>3</th>\n",
       "      <td>3</td>\n",
       "      <td>배송 받자마자 오늘 처음 시작했어요. 5년간 내 삶의 기록들이 기대됩니다.</td>\n",
       "      <td>1</td>\n",
       "      <td>5년후 나에게</td>\n",
       "      <td>NaN</td>\n",
       "      <td>1</td>\n",
       "    </tr>\n",
       "    <tr>\n",
       "      <th>4</th>\n",
       "      <td>4</td>\n",
       "      <td>얼마전에 서점에서 발견하고 계속 사고 싶었던 책이라 너무너무 기대되요!!</td>\n",
       "      <td>1</td>\n",
       "      <td>5년후 나에게</td>\n",
       "      <td>NaN</td>\n",
       "      <td>1</td>\n",
       "    </tr>\n",
       "  </tbody>\n",
       "</table>\n",
       "</div>"
      ],
      "text/plain": [
       "   Unnamed: 0                                                 댓글  평점 bookname  \\\n",
       "0           0  교활한 상술과 이에 편승한 교보에 실망했다.이책은 책이 아니고 그냥 노트일 뿐이다....  -1  5년후 나에게   \n",
       "1           1                                  좋은 분께 선물드린 책입니다,,   1  5년후 나에게   \n",
       "2           2       매년 같은날 다른 기분과 느낌 매일매일이 새로운 기분일것같아요꼭 사시길 추천행요   1  5년후 나에게   \n",
       "3           3          배송 받자마자 오늘 처음 시작했어요. 5년간 내 삶의 기록들이 기대됩니다.   1  5년후 나에게   \n",
       "4           4           얼마전에 서점에서 발견하고 계속 사고 싶었던 책이라 너무너무 기대되요!!   1  5년후 나에게   \n",
       "\n",
       "   Unnamed: 4  구분  \n",
       "0         NaN   1  \n",
       "1         NaN   1  \n",
       "2         NaN   1  \n",
       "3         NaN   1  \n",
       "4         NaN   1  "
      ]
     },
     "execution_count": 4,
     "metadata": {},
     "output_type": "execute_result"
    }
   ],
   "source": [
    "ex.head()"
   ]
  },
  {
   "cell_type": "code",
   "execution_count": 40,
   "metadata": {},
   "outputs": [],
   "source": [
    "body = pd.DataFrame(point_to_book_ratio)"
   ]
  },
  {
   "cell_type": "code",
   "execution_count": 41,
   "metadata": {},
   "outputs": [
    {
     "data": {
      "text/html": [
       "<div>\n",
       "<style scoped>\n",
       "    .dataframe tbody tr th:only-of-type {\n",
       "        vertical-align: middle;\n",
       "    }\n",
       "\n",
       "    .dataframe tbody tr th {\n",
       "        vertical-align: top;\n",
       "    }\n",
       "\n",
       "    .dataframe thead th {\n",
       "        text-align: right;\n",
       "    }\n",
       "</style>\n",
       "<table border=\"1\" class=\"dataframe\">\n",
       "  <thead>\n",
       "    <tr style=\"text-align: right;\">\n",
       "      <th></th>\n",
       "      <th></th>\n",
       "      <th>0</th>\n",
       "    </tr>\n",
       "    <tr>\n",
       "      <th>bookname</th>\n",
       "      <th>평점</th>\n",
       "      <th></th>\n",
       "    </tr>\n",
       "  </thead>\n",
       "  <tbody>\n",
       "    <tr>\n",
       "      <th rowspan=\"2\" valign=\"top\">50부터는 인생관을 바꿔야 산다</th>\n",
       "      <th>-1</th>\n",
       "      <td>0.160000</td>\n",
       "    </tr>\n",
       "    <tr>\n",
       "      <th>1</th>\n",
       "      <td>0.840000</td>\n",
       "    </tr>\n",
       "    <tr>\n",
       "      <th rowspan=\"2\" valign=\"top\">5년후 나에게</th>\n",
       "      <th>-1</th>\n",
       "      <td>0.048649</td>\n",
       "    </tr>\n",
       "    <tr>\n",
       "      <th>1</th>\n",
       "      <td>0.951351</td>\n",
       "    </tr>\n",
       "    <tr>\n",
       "      <th rowspan=\"2\" valign=\"top\">감사하면 달라지는 것들</th>\n",
       "      <th>-1</th>\n",
       "      <td>0.024390</td>\n",
       "    </tr>\n",
       "    <tr>\n",
       "      <th>1</th>\n",
       "      <td>0.975610</td>\n",
       "    </tr>\n",
       "    <tr>\n",
       "      <th rowspan=\"2\" valign=\"top\">나는 무조건 합격하는 공부만 한다</th>\n",
       "      <th>-1</th>\n",
       "      <td>0.079545</td>\n",
       "    </tr>\n",
       "    <tr>\n",
       "      <th>1</th>\n",
       "      <td>0.920455</td>\n",
       "    </tr>\n",
       "    <tr>\n",
       "      <th>린치핀</th>\n",
       "      <th>1</th>\n",
       "      <td>1.000000</td>\n",
       "    </tr>\n",
       "    <tr>\n",
       "      <th rowspan=\"2\" valign=\"top\">말센스</th>\n",
       "      <th>-1</th>\n",
       "      <td>0.040909</td>\n",
       "    </tr>\n",
       "    <tr>\n",
       "      <th>1</th>\n",
       "      <td>0.959091</td>\n",
       "    </tr>\n",
       "    <tr>\n",
       "      <th>미러</th>\n",
       "      <th>1</th>\n",
       "      <td>1.000000</td>\n",
       "    </tr>\n",
       "    <tr>\n",
       "      <th rowspan=\"2\" valign=\"top\">베스트 셀프</th>\n",
       "      <th>-1</th>\n",
       "      <td>0.049587</td>\n",
       "    </tr>\n",
       "    <tr>\n",
       "      <th>1</th>\n",
       "      <td>0.950413</td>\n",
       "    </tr>\n",
       "    <tr>\n",
       "      <th rowspan=\"2\" valign=\"top\">세계의 리더들은 왜 철학을 공부하는가</th>\n",
       "      <th>-1</th>\n",
       "      <td>0.117647</td>\n",
       "    </tr>\n",
       "    <tr>\n",
       "      <th>1</th>\n",
       "      <td>0.882353</td>\n",
       "    </tr>\n",
       "    <tr>\n",
       "      <th rowspan=\"2\" valign=\"top\">시작의 기술</th>\n",
       "      <th>-1</th>\n",
       "      <td>0.028571</td>\n",
       "    </tr>\n",
       "    <tr>\n",
       "      <th>1</th>\n",
       "      <td>0.971429</td>\n",
       "    </tr>\n",
       "    <tr>\n",
       "      <th rowspan=\"2\" valign=\"top\">아주 작은 습관의 힘</th>\n",
       "      <th>-1</th>\n",
       "      <td>0.013011</td>\n",
       "    </tr>\n",
       "    <tr>\n",
       "      <th>1</th>\n",
       "      <td>0.986989</td>\n",
       "    </tr>\n",
       "    <tr>\n",
       "      <th rowspan=\"2\" valign=\"top\">에이트</th>\n",
       "      <th>-1</th>\n",
       "      <td>0.074219</td>\n",
       "    </tr>\n",
       "    <tr>\n",
       "      <th>1</th>\n",
       "      <td>0.925781</td>\n",
       "    </tr>\n",
       "    <tr>\n",
       "      <th rowspan=\"2\" valign=\"top\">인생을 어떻게 살면 좋겠냐고 묻는 딸에게</th>\n",
       "      <th>-1</th>\n",
       "      <td>0.053571</td>\n",
       "    </tr>\n",
       "    <tr>\n",
       "      <th>1</th>\n",
       "      <td>0.946429</td>\n",
       "    </tr>\n",
       "    <tr>\n",
       "      <th rowspan=\"2\" valign=\"top\">타이탄의 도구들</th>\n",
       "      <th>-1</th>\n",
       "      <td>0.018248</td>\n",
       "    </tr>\n",
       "    <tr>\n",
       "      <th>1</th>\n",
       "      <td>0.981752</td>\n",
       "    </tr>\n",
       "    <tr>\n",
       "      <th rowspan=\"2\" valign=\"top\">탁월한 인생을 만드는 법</th>\n",
       "      <th>-1</th>\n",
       "      <td>0.037037</td>\n",
       "    </tr>\n",
       "    <tr>\n",
       "      <th>1</th>\n",
       "      <td>0.962963</td>\n",
       "    </tr>\n",
       "    <tr>\n",
       "      <th>하버드 부자 수업</th>\n",
       "      <th>1</th>\n",
       "      <td>1.000000</td>\n",
       "    </tr>\n",
       "    <tr>\n",
       "      <th rowspan=\"2\" valign=\"top\">하버드 상위 1퍼센트의 비밀</th>\n",
       "      <th>-1</th>\n",
       "      <td>0.076923</td>\n",
       "    </tr>\n",
       "    <tr>\n",
       "      <th>1</th>\n",
       "      <td>0.923077</td>\n",
       "    </tr>\n",
       "    <tr>\n",
       "      <th rowspan=\"2\" valign=\"top\">한 줄 정리의 힘</th>\n",
       "      <th>-1</th>\n",
       "      <td>0.100000</td>\n",
       "    </tr>\n",
       "    <tr>\n",
       "      <th>1</th>\n",
       "      <td>0.900000</td>\n",
       "    </tr>\n",
       "    <tr>\n",
       "      <th>해빗</th>\n",
       "      <th>1</th>\n",
       "      <td>1.000000</td>\n",
       "    </tr>\n",
       "    <tr>\n",
       "      <th>호감 가는 대화에는 8가지 절대법칙이 있다</th>\n",
       "      <th>1</th>\n",
       "      <td>1.000000</td>\n",
       "    </tr>\n",
       "  </tbody>\n",
       "</table>\n",
       "</div>"
      ],
      "text/plain": [
       "                                   0\n",
       "bookname                평점          \n",
       "50부터는 인생관을 바꿔야 산다       -1  0.160000\n",
       "                         1  0.840000\n",
       "5년후 나에게                 -1  0.048649\n",
       "                         1  0.951351\n",
       "감사하면 달라지는 것들            -1  0.024390\n",
       "                         1  0.975610\n",
       "나는 무조건 합격하는 공부만 한다      -1  0.079545\n",
       "                         1  0.920455\n",
       "린치핀                      1  1.000000\n",
       "말센스                     -1  0.040909\n",
       "                         1  0.959091\n",
       "미러                       1  1.000000\n",
       "베스트 셀프                  -1  0.049587\n",
       "                         1  0.950413\n",
       "세계의 리더들은 왜 철학을 공부하는가    -1  0.117647\n",
       "                         1  0.882353\n",
       "시작의 기술                  -1  0.028571\n",
       "                         1  0.971429\n",
       "아주 작은 습관의 힘             -1  0.013011\n",
       "                         1  0.986989\n",
       "에이트                     -1  0.074219\n",
       "                         1  0.925781\n",
       "인생을 어떻게 살면 좋겠냐고 묻는 딸에게  -1  0.053571\n",
       "                         1  0.946429\n",
       "타이탄의 도구들                -1  0.018248\n",
       "                         1  0.981752\n",
       "탁월한 인생을 만드는 법           -1  0.037037\n",
       "                         1  0.962963\n",
       "하버드 부자 수업                1  1.000000\n",
       "하버드 상위 1퍼센트의 비밀         -1  0.076923\n",
       "                         1  0.923077\n",
       "한 줄 정리의 힘               -1  0.100000\n",
       "                         1  0.900000\n",
       "해빗                       1  1.000000\n",
       "호감 가는 대화에는 8가지 절대법칙이 있다  1  1.000000"
      ]
     },
     "execution_count": 41,
     "metadata": {},
     "output_type": "execute_result"
    }
   ],
   "source": [
    "body"
   ]
  },
  {
   "cell_type": "code",
   "execution_count": 11,
   "metadata": {},
   "outputs": [],
   "source": [
    "import openpyxl"
   ]
  },
  {
   "cell_type": "code",
   "execution_count": 42,
   "metadata": {},
   "outputs": [],
   "source": [
    "# 엑셀로 저장 -> -1/1 기준으로 재배열, Null값 처리\n",
    "writer = pd.ExcelWriter('review_point.xlsx', engine='xlsxwriter')\n",
    " \n",
    "## DataFrame을 xlsx에 쓰기\n",
    "with pd.ExcelWriter(writer) as writer:\n",
    "    body.to_excel(writer, sheet_name='Sheet1')\n",
    " # Pandas writer 객체 닫기\n",
    "writer.close()"
   ]
  },
  {
   "cell_type": "code",
   "execution_count": 43,
   "metadata": {},
   "outputs": [],
   "source": [
    "review_point = pd.read_csv('review_point.csv', sep=',')"
   ]
  },
  {
   "cell_type": "code",
   "execution_count": 44,
   "metadata": {},
   "outputs": [
    {
     "data": {
      "text/html": [
       "<div>\n",
       "<style scoped>\n",
       "    .dataframe tbody tr th:only-of-type {\n",
       "        vertical-align: middle;\n",
       "    }\n",
       "\n",
       "    .dataframe tbody tr th {\n",
       "        vertical-align: top;\n",
       "    }\n",
       "\n",
       "    .dataframe thead th {\n",
       "        text-align: right;\n",
       "    }\n",
       "</style>\n",
       "<table border=\"1\" class=\"dataframe\">\n",
       "  <thead>\n",
       "    <tr style=\"text-align: right;\">\n",
       "      <th></th>\n",
       "      <th>평점</th>\n",
       "      <th>50부터는 인생관을 바꿔야 산다</th>\n",
       "      <th>5년후 나에게</th>\n",
       "      <th>감사하면 달라지는 것들</th>\n",
       "      <th>나는 무조건 합격하는 공부만 한다</th>\n",
       "      <th>린치핀</th>\n",
       "      <th>말센스</th>\n",
       "      <th>미러</th>\n",
       "      <th>베스트 셀프</th>\n",
       "      <th>세계의 리더들은 왜 철학을 공부하는가</th>\n",
       "      <th>...</th>\n",
       "      <th>아주 작은 습관의 힘</th>\n",
       "      <th>에이트</th>\n",
       "      <th>인생을 어떻게 살면 좋겠냐고 묻는 딸에게</th>\n",
       "      <th>타이탄의 도구들</th>\n",
       "      <th>탁월한 인생을 만드는 법</th>\n",
       "      <th>하버드 부자 수업</th>\n",
       "      <th>하버드 상위 1퍼센트의 비밀</th>\n",
       "      <th>한 줄 정리의 힘</th>\n",
       "      <th>해빗</th>\n",
       "      <th>호감 가는 대화에는 8가지 절대법칙이 있다</th>\n",
       "    </tr>\n",
       "  </thead>\n",
       "  <tbody>\n",
       "    <tr>\n",
       "      <th>0</th>\n",
       "      <td>Nagative</td>\n",
       "      <td>0.16</td>\n",
       "      <td>0.048649</td>\n",
       "      <td>0.02439</td>\n",
       "      <td>0.079545</td>\n",
       "      <td>0</td>\n",
       "      <td>0.040909</td>\n",
       "      <td>0</td>\n",
       "      <td>0.049587</td>\n",
       "      <td>0.117647</td>\n",
       "      <td>...</td>\n",
       "      <td>0.013011</td>\n",
       "      <td>0.074219</td>\n",
       "      <td>0.053571</td>\n",
       "      <td>0.018248</td>\n",
       "      <td>0.037037</td>\n",
       "      <td>0</td>\n",
       "      <td>0.076923</td>\n",
       "      <td>0.1</td>\n",
       "      <td>0</td>\n",
       "      <td>0</td>\n",
       "    </tr>\n",
       "    <tr>\n",
       "      <th>1</th>\n",
       "      <td>Positive</td>\n",
       "      <td>0.84</td>\n",
       "      <td>0.951351</td>\n",
       "      <td>0.97561</td>\n",
       "      <td>0.920455</td>\n",
       "      <td>1</td>\n",
       "      <td>0.959091</td>\n",
       "      <td>1</td>\n",
       "      <td>0.950413</td>\n",
       "      <td>0.882353</td>\n",
       "      <td>...</td>\n",
       "      <td>0.986989</td>\n",
       "      <td>0.925781</td>\n",
       "      <td>0.946429</td>\n",
       "      <td>0.981752</td>\n",
       "      <td>0.962963</td>\n",
       "      <td>1</td>\n",
       "      <td>0.923077</td>\n",
       "      <td>0.9</td>\n",
       "      <td>1</td>\n",
       "      <td>1</td>\n",
       "    </tr>\n",
       "  </tbody>\n",
       "</table>\n",
       "<p>2 rows × 21 columns</p>\n",
       "</div>"
      ],
      "text/plain": [
       "         평점  50부터는 인생관을 바꿔야 산다   5년후 나에게  감사하면 달라지는 것들  나는 무조건 합격하는 공부만 한다  \\\n",
       "0  Nagative               0.16  0.048649       0.02439            0.079545   \n",
       "1  Positive               0.84  0.951351       0.97561            0.920455   \n",
       "\n",
       "   린치핀       말센스  미러    베스트 셀프  세계의 리더들은 왜 철학을 공부하는가  ...  아주 작은 습관의 힘  \\\n",
       "0    0  0.040909   0  0.049587              0.117647  ...     0.013011   \n",
       "1    1  0.959091   1  0.950413              0.882353  ...     0.986989   \n",
       "\n",
       "        에이트  인생을 어떻게 살면 좋겠냐고 묻는 딸에게  타이탄의 도구들  탁월한 인생을 만드는 법  하버드 부자 수업  \\\n",
       "0  0.074219                0.053571  0.018248       0.037037          0   \n",
       "1  0.925781                0.946429  0.981752       0.962963          1   \n",
       "\n",
       "   하버드 상위 1퍼센트의 비밀  한 줄 정리의 힘  해빗  호감 가는 대화에는 8가지 절대법칙이 있다  \n",
       "0         0.076923        0.1   0                        0  \n",
       "1         0.923077        0.9   1                        1  \n",
       "\n",
       "[2 rows x 21 columns]"
      ]
     },
     "execution_count": 44,
     "metadata": {},
     "output_type": "execute_result"
    }
   ],
   "source": [
    "review_point.head()"
   ]
  },
  {
   "cell_type": "code",
   "execution_count": 45,
   "metadata": {},
   "outputs": [],
   "source": [
    "del review_point['평점']"
   ]
  },
  {
   "cell_type": "code",
   "execution_count": 46,
   "metadata": {
    "scrolled": true
   },
   "outputs": [
    {
     "name": "stdout",
     "output_type": "stream",
     "text": [
      "50부터는 인생관을 바꿔야 산다          0.840000\n",
      "5년후 나에게                    0.951351\n",
      "감사하면 달라지는 것들               0.975610\n",
      "나는 무조건 합격하는 공부만 한다         0.920455\n",
      "린치핀                        1.000000\n",
      "말센스                        0.959091\n",
      "미러                         1.000000\n",
      "베스트 셀프                     0.950413\n",
      "세계의 리더들은 왜 철학을 공부하는가       0.882353\n",
      "시작의 기술                     0.971429\n",
      "아주 작은 습관의 힘                0.986989\n",
      "에이트                        0.925781\n",
      "인생을 어떻게 살면 좋겠냐고 묻는 딸에게     0.946429\n",
      "타이탄의 도구들                   0.981752\n",
      "탁월한 인생을 만드는 법              0.962963\n",
      "하버드 부자 수업                  1.000000\n",
      "하버드 상위 1퍼센트의 비밀            0.923077\n",
      "한 줄 정리의 힘                  0.900000\n",
      "해빗                         1.000000\n",
      "호감 가는 대화에는 8가지 절대법칙이 있다    1.000000\n",
      "Name: 1, dtype: float64\n",
      "50부터는 인생관을 바꿔야 산다          0.160000\n",
      "5년후 나에게                    0.048649\n",
      "감사하면 달라지는 것들               0.024390\n",
      "나는 무조건 합격하는 공부만 한다         0.079545\n",
      "린치핀                        0.000000\n",
      "말센스                        0.040909\n",
      "미러                         0.000000\n",
      "베스트 셀프                     0.049587\n",
      "세계의 리더들은 왜 철학을 공부하는가       0.117647\n",
      "시작의 기술                     0.028571\n",
      "아주 작은 습관의 힘                0.013011\n",
      "에이트                        0.074219\n",
      "인생을 어떻게 살면 좋겠냐고 묻는 딸에게     0.053571\n",
      "타이탄의 도구들                   0.018248\n",
      "탁월한 인생을 만드는 법              0.037037\n",
      "하버드 부자 수업                  0.000000\n",
      "하버드 상위 1퍼센트의 비밀            0.076923\n",
      "한 줄 정리의 힘                  0.100000\n",
      "해빗                         0.000000\n",
      "호감 가는 대화에는 8가지 절대법칙이 있다    0.000000\n",
      "Name: 0, dtype: float64\n"
     ]
    }
   ],
   "source": [
    "Y = review_point.loc[0]\n",
    "X = review_point.loc[1]\n",
    "print(X)\n",
    "print(Y)\n",
    "# 부정의견 10프로 넘음 : 14.50부터는 인생관을 바꿔야 산다 / 4.세계의 리더들은 왜 철학을 공부하는가 / 20.한 줄 정리의 힘 \n",
    "# 7.나는 무조건 합격하는 공부만 한다"
   ]
  },
  {
   "cell_type": "code",
   "execution_count": 47,
   "metadata": {
    "scrolled": false
   },
   "outputs": [
    {
     "data": {
      "image/png": "[encoded data removed]",
      "text/plain": [
       "<Figure size 1000x600 with 1 Axes>"
      ]
     },
     "metadata": {},
     "output_type": "display_data"
    }
   ],
   "source": [
    "S = 100\n",
    "sample_size = 1000\n",
    "plt.style.use(['dark_background'])\n",
    "plt.figure(figsize=(10,6))\n",
    "plt.rc('font', size=13)\n",
    "plt.scatter(X, Y, s=S, alpha= 0.5)\n",
    "plt.xlabel('긍정', fontsize=15)\n",
    "plt.ylabel('부정', fontsize=15)\n",
    "plt.show()"
   ]
  },
  {
   "cell_type": "code",
   "execution_count": null,
   "metadata": {},
   "outputs": [],
   "source": []
  },
  {
   "cell_type": "code",
   "execution_count": null,
   "metadata": {},
   "outputs": [],
   "source": []
  }
 ],
 "metadata": {
  "kernelspec": {
   "display_name": "Python 3",
   "language": "python",
   "name": "python3"
  },
  "language_info": {
   "codemirror_mode": {
    "name": "ipython",
    "version": 3
   },
   "file_extension": ".py",
   "mimetype": "text/x-python",
   "name": "python",
   "nbconvert_exporter": "python",
   "pygments_lexer": "ipython3",
   "version": "3.7.5"
  }
 },
 "nbformat": 4,
 "nbformat_minor": 2
}
